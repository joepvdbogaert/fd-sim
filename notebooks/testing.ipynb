{
 "cells": [
  {
   "cell_type": "markdown",
   "metadata": {},
   "source": [
    "# Module testing\n",
    "\n",
    "This notebook is used to test and debug functions and classes of *fd-sim* and to illustrate their use."
   ]
  },
  {
   "cell_type": "code",
   "execution_count": 1,
   "metadata": {},
   "outputs": [
    {
     "name": "stdout",
     "output_type": "stream",
     "text": [
      "working directory: C:\\Users\\s100385\\Documents\\JADS Working Files\\Final Project\\fd-sim\n"
     ]
    }
   ],
   "source": [
    "import os\n",
    "os.chdir('..')\n",
    "print('working directory: {}'.format(os.getcwd()))\n",
    "import numpy as np\n",
    "import pandas as pd\n",
    "\n",
    "from responsetimefitting import (\n",
    "    prepare_data_for_response_time_analysis,\n",
    "    add_osrm_distance_and_duration,\n",
    "    model_travel_time,\n",
    "    fit_dispatch_times,\n",
    "    fit_turnout_times\n",
    ")\n",
    "\n",
    "import warnings\n",
    "warnings.filterwarnings('ignore')\n",
    "pd.set_option('display.max_columns', 1000)\n",
    "\n",
    "deployments = pd.read_csv(\"..\\Data\\inzetten_2008-heden.csv\", sep=\";\", decimal=\",\")\n",
    "incidents = pd.read_csv(\"..\\Data\\incidenten_2008-heden.csv\", sep=\";\", decimal=\",\")\n",
    "station_locations = pd.read_excel(\"..\\\\Data\\\\kazernepositie en voertuigen.xlsx\", sep=\";\", decimal=\".\")"
   ]
  },
  {
   "cell_type": "markdown",
   "metadata": {},
   "source": [
    "## 1. DeploymentSimulator\n",
    "\n",
    "### 1.1 responsetimefitting\n",
    "\n",
    "#### 1.1.1. Prepare data"
   ]
  },
  {
   "cell_type": "code",
   "execution_count": null,
   "metadata": {},
   "outputs": [],
   "source": [
    "df = prepare_data_for_response_time_analysis(incidents, deployments, station_locations)\n",
    "df.head(1)"
   ]
  },
  {
   "cell_type": "markdown",
   "metadata": {},
   "source": [
    "#### 1.1.2 Add OSRM estimates of travel distance and duration"
   ]
  },
  {
   "cell_type": "code",
   "execution_count": null,
   "metadata": {},
   "outputs": [],
   "source": [
    "# requires running OSRM\n",
    "df = add_osrm_distance_and_duration(df, osrm_host=\"http://192.168.56.101:5000\")"
   ]
  },
  {
   "cell_type": "code",
   "execution_count": null,
   "metadata": {},
   "outputs": [],
   "source": [
    "# save file so this process can be skipped next time\n",
    "df.to_csv(\"./data/merged_log_with_osrm_info.csv\")\n",
    "df.head()"
   ]
  },
  {
   "cell_type": "markdown",
   "metadata": {},
   "source": [
    "#### 1.1.3 Model travel time"
   ]
  },
  {
   "cell_type": "code",
   "execution_count": 2,
   "metadata": {},
   "outputs": [],
   "source": [
    "df = pd.read_csv(\"./data/merged_log_with_osrm_info.csv\")"
   ]
  },
  {
   "cell_type": "code",
   "execution_count": 3,
   "metadata": {},
   "outputs": [
    {
     "name": "stdout",
     "output_type": "stream",
     "text": [
      "Linear model: 0.0 + 0.834256928203675*t_hat*noise, where t_hat is the OSRM estimate of travel time\n",
      "and the noise is a lognormal random variable with shape=6.0945512570972, loc=-506.6351653791085, scale=0.862959531049882\n"
     ]
    }
   ],
   "source": [
    "intercept, coefficient, travel_time_rv = model_travel_time(df)\n",
    "print(\"Linear model: {} + {}*t_hat*noise, where t_hat is the OSRM estimate of travel time\"\n",
    "      .format(intercept, coefficient))\n",
    "print(\"and the noise is a lognormal random variable with shape={}, loc={}, scale={}\"\n",
    "      .format(travel_time_rv.args[0], travel_time_rv.args[1], travel_time_rv.args[2]))"
   ]
  },
  {
   "cell_type": "markdown",
   "metadata": {},
   "source": [
    "#### 1.1.4 Fit dispatch times per type"
   ]
  },
  {
   "cell_type": "code",
   "execution_count": 4,
   "metadata": {},
   "outputs": [
    {
     "data": {
      "text/plain": [
       "<scipy.stats._distn_infrastructure.rv_frozen at 0x26911a6eeb8>"
      ]
     },
     "execution_count": 4,
     "metadata": {},
     "output_type": "execute_result"
    }
   ],
   "source": [
    "dispatch_time_dict = fit_dispatch_times(df)\n",
    "dispatch_time_dict[\"Binnenbrand\"]"
   ]
  },
  {
   "cell_type": "markdown",
   "metadata": {},
   "source": [
    "#### 1.1.5 Fit turn-out times per type and station"
   ]
  },
  {
   "cell_type": "code",
   "execution_count": 5,
   "metadata": {},
   "outputs": [
    {
     "data": {
      "text/plain": [
       "<scipy.stats._distn_infrastructure.rv_frozen at 0x26923c56860>"
      ]
     },
     "execution_count": 5,
     "metadata": {},
     "output_type": "execute_result"
    }
   ],
   "source": [
    "current_stations = np.append(station_locations[\"kazerne\"].unique(),\n",
    "                             [\"AMSTELVEEN VRIJWILLIG\", \"GESPREKSGROEPEN\", \"ONBEKEND\"])\n",
    "turnout_time_dict = fit_turnout_times(df, current_stations)\n",
    "turnout_time_dict[\"NICO\"][\"Buitenbrand\"]"
   ]
  },
  {
   "cell_type": "markdown",
   "metadata": {},
   "source": [
    "## 2. IncidentSampler\n",
    "\n",
    "Implicitly tests:\n",
    "- incidentfitting by initializing an IncidentSampler\n",
    "- the result of ProphetIncidentPredictor, since it uses its forecasts of the incident rate"
   ]
  },
  {
   "cell_type": "code",
   "execution_count": 7,
   "metadata": {},
   "outputs": [
    {
     "name": "stdout",
     "output_type": "stream",
     "text": [
      "Initializing incident rate predictor...\n",
      "Getting priority probabilities..\n",
      "Getting vehicle requirement probabilities...\n",
      "Getting spatial distributions...\n",
      "Initializing incident types...\n",
      "Getting building function probabilities...\n",
      "Initializing demand locations\n",
      "IncidentSampler ready for simulation.\n"
     ]
    }
   ],
   "source": [
    "from sampling import IncidentSampler\n",
    "sampler = IncidentSampler(incidents, deployments)"
   ]
  },
  {
   "cell_type": "code",
   "execution_count": 16,
   "metadata": {},
   "outputs": [
    {
     "name": "stdout",
     "output_type": "stream",
     "text": [
      "time: 5.600965969079188, type: OMS / automatische melding, loc: 13780129, prio: 1, vehicles: ('TS',), object function: Kantoorfunctie.\n",
      "time: 10.62814481049801, type: Buitenbrand, loc: 13780201, prio: 2, vehicles: ('GG', 'TS'), object function: Regionale weg.\n",
      "time: 15.17107345563619, type: Storm en Waterschade, loc: 13781060, prio: 1, vehicles: ('TS',), object function: Woonfunctie.\n",
      "time: 17.68095529128141, type: OMS / automatische melding, loc: 13780258, prio: 1, vehicles: ('GG', 'TS'), object function: Onderwijsfunctie.\n",
      "time: 64.74679095180446, type: OMS / automatische melding, loc: 13780969, prio: 1, vehicles: ('TS',), object function: Logiesfunctie.\n",
      "time: 70.47883895572943, type: Storm en Waterschade, loc: 13781009, prio: 2, vehicles: ('TS',), object function: Woonfunctie.\n",
      "time: 117.15851212786771, type: Brandgerucht / nacontrole, loc: 13780953, prio: 1, vehicles: ('OD', 'TS'), object function: Winkelfunctie.\n",
      "time: 153.58658531111024, type: Storm en Waterschade, loc: 13780108, prio: 2, vehicles: ('TS',), object function: Woonfunctie.\n",
      "time: 271.5753157065447, type: Buitenbrand, loc: 13780502, prio: 1, vehicles: ('AL-24M', 'BRV-Gr', 'DB-OVD', 'GG', 'TS', 'TS-CB', 'WO'), object function: Straat.\n",
      "time: 272.0925880996605, type: Reanimeren, loc: 13781183, prio: 1, vehicles: ('TS',), object function: Woonfunctie.\n"
     ]
    }
   ],
   "source": [
    "def print_details(t, type_, l, p, v, f):\n",
    "    print(\"time: {}, type: {}, loc: {}, prio: {}, vehicles: {}, object function: {}.\".format(t, type_, l, p, v, f))\n",
    "\n",
    "t = 0\n",
    "for _ in range(10):\n",
    "    t, type_, l, p, v, f = sampler.sample_next_incident(t)\n",
    "    print_details(t, type_, l, p, v, f)"
   ]
  },
  {
   "cell_type": "markdown",
   "metadata": {},
   "source": [
    "Perform a timing experiment: how fast can we simulate a year?"
   ]
  },
  {
   "cell_type": "code",
   "execution_count": 15,
   "metadata": {},
   "outputs": [
    {
     "name": "stdout",
     "output_type": "stream",
     "text": [
      "Time to draw 17520 random samples: 2 seconds.\n"
     ]
    }
   ],
   "source": [
    "from datetime import datetime\n",
    "N = 2*24*365\n",
    "t = 0\n",
    "t1 = datetime.now()\n",
    "for _ in range(N):\n",
    "    t, type_, l, p, v, f = sampler.sample_next_incident(t)\n",
    "t2 = datetime.now()\n",
    "print(\"Time to draw {} random samples: {} seconds.\".format(N, (t2-t1).seconds))"
   ]
  }
 ],
 "metadata": {
  "kernelspec": {
   "display_name": "Python 3",
   "language": "python",
   "name": "python3"
  },
  "language_info": {
   "codemirror_mode": {
    "name": "ipython",
    "version": 3
   },
   "file_extension": ".py",
   "mimetype": "text/x-python",
   "name": "python",
   "nbconvert_exporter": "python",
   "pygments_lexer": "ipython3",
   "version": "3.6.6"
  }
 },
 "nbformat": 4,
 "nbformat_minor": 2
}
