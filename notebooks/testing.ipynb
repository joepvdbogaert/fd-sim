{
 "cells": [
  {
   "cell_type": "markdown",
   "metadata": {},
   "source": [
    "# Module testing\n",
    "\n",
    "This notebook is used to test and debug functions and classes of *fd-sim* and to illustrate their use."
   ]
  },
  {
   "cell_type": "code",
   "execution_count": 1,
   "metadata": {},
   "outputs": [
    {
     "name": "stdout",
     "output_type": "stream",
     "text": [
      "working directory: C:\\Users\\s100385\\Documents\\JADS Working Files\\Final Project\\fd-sim\n"
     ]
    }
   ],
   "source": [
    "import os\n",
    "os.chdir('..')\n",
    "print('working directory: {}'.format(os.getcwd()))\n",
    "import numpy as np\n",
    "import pandas as pd\n",
    "\n",
    "from responsetimefitting import (\n",
    "    prepare_data_for_response_time_analysis,\n",
    "    add_osrm_distance_and_duration,\n",
    "    model_travel_time,\n",
    "    fit_dispatch_times,\n",
    "    fit_turnout_times\n",
    ")\n",
    "\n",
    "import warnings\n",
    "warnings.filterwarnings('ignore')\n",
    "pd.set_option('display.max_columns', 1000)\n",
    "\n",
    "deployments = pd.read_csv(\"..\\Data\\inzetten_2008-heden.csv\", sep=\";\", decimal=\",\")\n",
    "incidents = pd.read_csv(\"..\\Data\\incidenten_2008-heden.csv\", sep=\";\", decimal=\",\")\n",
    "station_locations = pd.read_excel(\"..\\\\Data\\\\kazernepositie en voertuigen.xlsx\", sep=\";\", decimal=\".\")"
   ]
  },
  {
   "cell_type": "markdown",
   "metadata": {},
   "source": [
    "## 1. DeploymentSimulator\n",
    "\n",
    "### 1.1 responsetimefitting\n",
    "\n",
    "#### 1.1.1. Prepare data"
   ]
  },
  {
   "cell_type": "code",
   "execution_count": null,
   "metadata": {},
   "outputs": [],
   "source": [
    "df = prepare_data_for_response_time_analysis(incidents, deployments, station_locations)\n",
    "df.head(1)"
   ]
  },
  {
   "cell_type": "markdown",
   "metadata": {},
   "source": [
    "#### 1.1.2 Add OSRM estimates of travel distance and duration"
   ]
  },
  {
   "cell_type": "code",
   "execution_count": null,
   "metadata": {},
   "outputs": [],
   "source": [
    "# requires running OSRM\n",
    "df = add_osrm_distance_and_duration(df, osrm_host=\"http://192.168.56.101:5000\")"
   ]
  },
  {
   "cell_type": "code",
   "execution_count": null,
   "metadata": {},
   "outputs": [],
   "source": [
    "# save file so this process can be skipped next time\n",
    "df.to_csv(\"./data/merged_log_with_osrm_info.csv\")\n",
    "df.head()"
   ]
  },
  {
   "cell_type": "markdown",
   "metadata": {},
   "source": [
    "#### 1.1.3 Model travel time"
   ]
  },
  {
   "cell_type": "code",
   "execution_count": 2,
   "metadata": {},
   "outputs": [],
   "source": [
    "df = pd.read_csv(\"./data/merged_log_with_osrm_info.csv\")"
   ]
  },
  {
   "cell_type": "code",
   "execution_count": 3,
   "metadata": {},
   "outputs": [
    {
     "name": "stdout",
     "output_type": "stream",
     "text": [
      "Linear model: 0.0 + 0.834256928203675*t_hat*noise, where t_hat is the OSRM estimate of travel time\n",
      "and the noise is a lognormal random variable with shape=6.0945512570972, loc=-506.6351653791085, scale=0.862959531049882\n"
     ]
    }
   ],
   "source": [
    "intercept, coefficient, travel_time_rv = model_travel_time(df)\n",
    "print(\"Linear model: {} + {}*t_hat*noise, where t_hat is the OSRM estimate of travel time\"\n",
    "      .format(intercept, coefficient))\n",
    "print(\"and the noise is a lognormal random variable with shape={}, loc={}, scale={}\"\n",
    "      .format(travel_time_rv.args[0], travel_time_rv.args[1], travel_time_rv.args[2]))"
   ]
  },
  {
   "cell_type": "markdown",
   "metadata": {},
   "source": [
    "#### 1.1.4 Fit dispatch times per type"
   ]
  },
  {
   "cell_type": "code",
   "execution_count": 4,
   "metadata": {},
   "outputs": [
    {
     "data": {
      "text/plain": [
       "<scipy.stats._distn_infrastructure.rv_frozen at 0x2109c38db70>"
      ]
     },
     "execution_count": 4,
     "metadata": {},
     "output_type": "execute_result"
    }
   ],
   "source": [
    "dispatch_time_dict = fit_dispatch_times(df)\n",
    "dispatch_time_dict[\"Binnenbrand\"]"
   ]
  },
  {
   "cell_type": "markdown",
   "metadata": {},
   "source": [
    "#### 1.1.5 Fit turn-out times per type and station"
   ]
  },
  {
   "cell_type": "code",
   "execution_count": 5,
   "metadata": {},
   "outputs": [
    {
     "data": {
      "text/plain": [
       "<scipy.stats._distn_infrastructure.rv_frozen at 0x210ae550cf8>"
      ]
     },
     "execution_count": 5,
     "metadata": {},
     "output_type": "execute_result"
    }
   ],
   "source": [
    "current_stations = np.append(station_locations[\"kazerne\"].unique(),\n",
    "                             [\"AMSTELVEEN VRIJWILLIG\", \"GESPREKSGROEPEN\", \"ONBEKEND\"])\n",
    "turnout_time_dict = fit_turnout_times(df, current_stations)\n",
    "turnout_time_dict[\"NICO\"][\"Buitenbrand\"]"
   ]
  }
 ],
 "metadata": {
  "kernelspec": {
   "display_name": "Python 3",
   "language": "python",
   "name": "python3"
  },
  "language_info": {
   "codemirror_mode": {
    "name": "ipython",
    "version": 3
   },
   "file_extension": ".py",
   "mimetype": "text/x-python",
   "name": "python",
   "nbconvert_exporter": "python",
   "pygments_lexer": "ipython3",
   "version": "3.6.6"
  }
 },
 "nbformat": 4,
 "nbformat_minor": 2
}
