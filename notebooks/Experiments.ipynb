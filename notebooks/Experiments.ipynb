{
 "cells": [
  {
   "cell_type": "markdown",
   "metadata": {},
   "source": [
    "# Validation through experimentation\n",
    "\n",
    "This notebook implements several experiments that aim to validate the behavior of the `fdsim` package. Every experiment consists of two or more scenarios that are compared in terms of different performance metrics. The expected effect of making changes in the simulation environment (i.e., changing the _scenario_) is known in advance: it is either obtained by simple logic or from domain experts.\n",
    "\n",
    "In this notebook, we consider two types of experiments: \n",
    "* _A/B tests_: situations in which we consider exactly two alternative scenarios.\n",
    "* _Multi-scenario experiments_: situations in which we consider three or more alternative scenarios.\n",
    "\n",
    "The experiments that we will perform using these two types of experiments are the following.\n",
    "\n",
    "1. Changing vehicles.\n",
    "    - a) Remove TS from Hendrik (big  effect)\n",
    "    - b) Remove TS from Ysbrand (small effect)\n",
    "    - c) Remove second TS from Amstelveen (almost no effect)\n",
    "    - d) Add RV to Zebra (small effect)\n",
    "    - e) Remove HV Diemen\n",
    "    - f) Add WO Nico (small positive effect)\n",
    "2. Moving stations\n",
    "    - a) Moving Osdorp up to the N200\n",
    "    - b) Movements suggested in paper\n",
    "3. Adding and closing stations\n",
    "    - a) Replicating closing of Landelijk Noord (minimal effect)\n",
    "    - b) Replicating closing of Ouderkerk aan de Amstel (minimal effect)\n",
    "    - c) Add station in Bovenkerk\n",
    "4. Station status cycles\n",
    "    - a) Closing Victor at night (23h - 7h, 7 days a week)\n",
    "    - b) Diemen part time outside office hours\n",
    "5. Back-up protocol\n",
    "    - a) Add backup system for Amstelveen\n",
    "6. Changing forecast\n",
    "    - a) Stress test the system by increasing incident rates with different factors\n",
    "\n",
    "## 0. Preparations\n",
    "Before we start experimenting, we import the necessary modules, load the required data and initialize a simulator that will represent our baseline for all experiments. By using the same baseline, we can better compare the influence of different decisions/changes."
   ]
  },
  {
   "cell_type": "code",
   "execution_count": null,
   "metadata": {},
   "outputs": [],
   "source": [
    "# imports\n",
    "import sys\n",
    "sys.path.append(\"..\")\n",
    "import copy\n",
    "import numpy as np\n",
    "import pandas as pd\n",
    "from fdsim.experiments import ABTest, MultiScenarioExperiment\n",
    "from fdsim.simulation import Simulator\n",
    "from fdsim.evaluation import Evaluator\n",
    "from fdsim.helpers import quick_load_simulator\n",
    "\n",
    "# data\n",
    "deployments = pd.read_csv(\"../../Data/inzetten_2008-heden.csv\", sep=\";\", decimal=\",\", low_memory=False, dtype={\"hub_incident_id\": int})\n",
    "incidents = pd.read_csv(\"../../Data/incidenten_2008-heden.csv\", sep=\";\", decimal=\",\", low_memory=False, dtype={\"dim_incident_id\": int})\n",
    "station_locations = pd.read_excel(\"../../Data/kazernepositie en voertuigen.xlsx\", sep=\";\", decimal=\".\")\n",
    "resource_allocation = pd.read_csv(\"../../Data/resource_allocation.csv\", sep=\";\", decimal=\".\")\n",
    "\n",
    "# baseline situation:\n",
    "resource_allocation"
   ]
  },
  {
   "cell_type": "code",
   "execution_count": null,
   "metadata": {},
   "outputs": [],
   "source": [
    "# obtain service areas\n",
    "def get_service_areas(data, stations, vehicle_col=\"voertuig_groep\", station_col=\"kazerne_groep\", loc_col=\"hub_vak_bk\", id_col=\"hub_incident_id\"):\n",
    "    counts = data.groupby([loc_col, station_col])[id_col].count().reset_index()\n",
    "    counts[station_col] = counts[station_col].str.upper()\n",
    "    counts = counts[np.in1d(counts[station_col], stations)]\n",
    "    maxes = pd.Series(counts.groupby(loc_col).apply(lambda x: x[station_col].loc[x[id_col].argmax()]), name=station_col).reset_index()\n",
    "\n",
    "    sa = maxes.groupby(station_col)[loc_col].apply(lambda x: np.unique(x))\n",
    "    return sa.T.to_dict()\n",
    "\n",
    "merged = deployments.merge(\n",
    "    incidents[[\"dim_incident_id\", \"hub_vak_bk\"]].dropna().astype(int),\n",
    "    left_on=\"hub_incident_id\",\n",
    "    right_on=\"dim_incident_id\",\n",
    "    how=\"inner\"\n",
    ")\n",
    "\n",
    "merged = merged[merged[\"hub_vak_bk\"].astype(str).str[0:2] == \"13\"]\n",
    "\n",
    "service_areas = get_service_areas(merged, station_locations[\"kazerne\"])\n",
    "service_areas[\"LANDELIJK NOORD\"]"
   ]
  },
  {
   "cell_type": "code",
   "execution_count": null,
   "metadata": {},
   "outputs": [],
   "source": [
    "# initialization\n",
    "base_simulator = Simulator(incidents, deployments, station_locations, resource_allocation, predictor=\"basic\",\n",
    "                           load_response_data=True, data_dir=\"../data\")\n",
    "base_simulator.save_simulator_object(\"baseline_simulator.pickle\")"
   ]
  },
  {
   "cell_type": "markdown",
   "metadata": {},
   "source": [
    "# 1. Changing vehicles\n",
    "\n",
    "## Experiment 1.a: Remove TS from station Hendrik.\n",
    "Expected effect: large effect on overall response time, since it is a busy station."
   ]
  },
  {
   "cell_type": "code",
   "execution_count": null,
   "metadata": {},
   "outputs": [],
   "source": [
    "# scenario A is the baseline\n",
    "sim_a = quick_load_simulator(\"baseline_simulator.pickle\")\n",
    "# scenario B has no TS at station Hendrik\n",
    "sim_b = quick_load_simulator(\"baseline_simulator.pickle\")\n",
    "sim_b.set_vehicles(\"HENDRIK\", \"TS\", 0)\n",
    "\n",
    "evaluator = Evaluator()\n",
    "# we add two metric on the response time and on-time rate of TS vehicles and\n",
    "# one on the other vehicle types to verify if there is no effect\n",
    "evaluator.add_metric(\"response_time\", name=\"TS response time\", vehicles=\"TS\",\n",
    "                     description=\"Response time of all TS deployments.\")\n",
    "evaluator.add_metric(\"delay\", name=\"Service area delay\", vehicles=\"TS\", first_only=True, prios=1, locations=service_areas[\"HENDRIK\"],\n",
    "                     description=\"Response time delay of first TS for prio 1 incidents in affected service area.\")\n",
    "evaluator.add_metric(\"on_time\", name=\"First TS on-time\", vehicles=\"TS\", first_only=True, prios=1,\n",
    "                     description=\"On-time rate of first TS.\", quantiles=None)\n",
    "evaluator.add_metric(\"response_time\", name=\"Non-TS\", vehicles=[\"RV\", \"HV\", \"WO\"],\n",
    "                     description=\"Response time of unaffected vehicle types.\")\n",
    "\n",
    "\n",
    "experiment1a = ABTest(evaluator=evaluator)\n",
    "experiment1a.set_scenario_A(sim_a, description=\"Baseline situation\")\n",
    "experiment1a.set_scenario_B(sim_b, description=\"No TS at station Hendrik\")\n",
    "experiment1a.run()"
   ]
  },
  {
   "cell_type": "code",
   "execution_count": null,
   "metadata": {},
   "outputs": [],
   "source": [
    "experiment1a.print_results()"
   ]
  },
  {
   "cell_type": "markdown",
   "metadata": {},
   "source": [
    "## Experiment 1.b: Remove TS from station Ijsbrand.\n",
    "Expected effect: small effect on overall response time, since it is a relatively calm station."
   ]
  },
  {
   "cell_type": "code",
   "execution_count": null,
   "metadata": {},
   "outputs": [],
   "source": [
    "# scenario A is the baseline\n",
    "sim_a = quick_load_simulator(\"baseline_simulator.pickle\")\n",
    "# scenario B has no TS at station Ijsbrand\n",
    "sim_b = quick_load_simulator(\"baseline_simulator.pickle\")\n",
    "sim_b.set_vehicles(\"IJSBRAND\", \"TS\", 0)\n",
    "\n",
    "evaluator = Evaluator()\n",
    "evaluator.add_metric(\"response_time\", name=\"TS response time\", vehicles=\"TS\",\n",
    "                     description=\"Response time of all TS deployments.\")\n",
    "evaluator.add_metric(\"delay\", name=\"Service area delay\", vehicles=\"TS\", first_only=True, prios=1, locations=service_areas[\"IJSBRAND\"],\n",
    "                     description=\"Response time delay of first TS for prio 1 incidents in affected service area.\")\n",
    "evaluator.add_metric(\"on_time\", name=\"First TS on-time\", vehicles=\"TS\", first_only=True, prios=1,\n",
    "                     description=\"On-time rate of first TS.\", quantiles=None)\n",
    "evaluator.add_metric(\"response_time\", name=\"Non-TS\", vehicles=[\"RV\", \"HV\", \"WO\"],\n",
    "                     description=\"Response time of unaffected vehicle types.\")\n",
    "\n",
    "# Let's use the same evaluator as in 1a.\n",
    "experiment1b = ABTest(evaluator=evaluator)\n",
    "experiment1b.set_scenario_A(sim_a, description=\"Baseline situation\")\n",
    "experiment1b.set_scenario_B(sim_b, description=\"No TS at station Ijsbrand\")\n",
    "experiment1b.run()\n",
    "experiment1b.print_results()"
   ]
  },
  {
   "cell_type": "markdown",
   "metadata": {},
   "source": [
    "## Experiment 1.c: Remove second TS from station Amstelveen.\n",
    "Expected effect: almost no effect on overall response time, since it is the second vehicle."
   ]
  },
  {
   "cell_type": "code",
   "execution_count": null,
   "metadata": {},
   "outputs": [],
   "source": [
    "# scenario A is the baseline\n",
    "sim_a = quick_load_simulator(\"baseline_simulator.pickle\")\n",
    "# scenario B has only one TS at station Amstelveen\n",
    "sim_b = quick_load_simulator(\"baseline_simulator.pickle\")\n",
    "sim_b.set_vehicles(\"AMSTELVEEN\", \"TS\", 1)\n",
    "\n",
    "evaluator = Evaluator()\n",
    "evaluator.add_metric(\"response_time\", name=\"TS response time\", vehicles=\"TS\",\n",
    "                     description=\"Response time of all TS deployments.\")\n",
    "evaluator.add_metric(\"delay\", name=\"Service area delay\", vehicles=\"TS\", first_only=True, prios=1, locations=service_areas[\"AMSTELVEEN\"],\n",
    "                     description=\"Response time delay of first TS for prio 1 incidents in affected service area.\")\n",
    "evaluator.add_metric(\"on_time\", name=\"First TS on-time\", vehicles=\"TS\", first_only=True, prios=1,\n",
    "                     description=\"On-time rate of first TS.\", quantiles=None)\n",
    "evaluator.add_metric(\"response_time\", name=\"Non-TS\", vehicles=[\"RV\", \"HV\", \"WO\"],\n",
    "                     description=\"Response time of unaffected vehicle types.\")\n",
    "\n",
    "# Let's use the same evaluator as in 1a and 1b.\n",
    "experiment1c = ABTest(evaluator=evaluator)\n",
    "experiment1c.set_scenario_A(sim_a, description=\"Baseline situation\")\n",
    "experiment1c.set_scenario_B(sim_b, description=\"Only one TS at station Amstelveen\")\n",
    "experiment1c.run()\n",
    "experiment1c.print_results()"
   ]
  },
  {
   "cell_type": "markdown",
   "metadata": {},
   "source": [
    "## Experiment 1.d: Add RV to station Zebra.\n",
    "Expected effect: small positive effect."
   ]
  },
  {
   "cell_type": "code",
   "execution_count": null,
   "metadata": {},
   "outputs": [],
   "source": [
    "# scenario A is the baseline\n",
    "sim_a = quick_load_simulator(\"baseline_simulator.pickle\")\n",
    "# scenario B has only one TS at station Amstelveen\n",
    "sim_b = quick_load_simulator(\"baseline_simulator.pickle\")\n",
    "sim_b.set_vehicles(\"ZEBRA\", \"RV\", 1)\n",
    "sim_b.set_crews(\"ZEBRA\", \"RV\", 1)\n",
    "\n",
    "evaluator = Evaluator()\n",
    "\n",
    "evaluator = Evaluator()\n",
    "evaluator.add_metric(\"response_time\", name=\"TS response time\", vehicles=\"TS\",\n",
    "                     description=\"Response time of all TS deployments.\")\n",
    "\n",
    "evaluator.add_metric(\"response_time\", name=\"RV response time\", vehicles=\"RV\",\n",
    "                     description=\"Response time of all RV deployments.\")\n",
    "evaluator.add_metric(\"on_time\", name=\"First RV on-time\", vehicles=\"RV\", first_only=True,\n",
    "                     description=\"On-time rate of first RV.\", quantiles=None)\n",
    "evaluator.add_metric(\"delay\", name=\"Service area delay\", vehicles=\"RV\", first_only=True, prios=1, locations=service_areas[\"ZEBRA\"],\n",
    "                     description=\"Response time delay of first RV for prio 1 incidents in affected service area.\")\n",
    "evaluator.add_metric(\"response_time\", name=\"Non-RV\", vehicles=[\"TS\", \"HV\", \"WO\"],\n",
    "                     description=\"Response time of unaffected vehicle types.\")\n",
    "\n",
    "experiment1d = ABTest(evaluator=evaluator)\n",
    "experiment1d.set_scenario_A(sim_a, description=\"Baseline situation\")\n",
    "experiment1d.set_scenario_B(sim_b, description=\"Additional RV positioned at station Zebra.\")\n",
    "experiment1d.run()\n",
    "experiment1d.print_results()"
   ]
  },
  {
   "cell_type": "markdown",
   "metadata": {},
   "source": [
    "## Experiment 1.e: Remove HV from station Diemen.\n",
    "Expected effect: negative effect."
   ]
  },
  {
   "cell_type": "code",
   "execution_count": null,
   "metadata": {},
   "outputs": [],
   "source": [
    "# scenario A is the baseline\n",
    "sim_a = quick_load_simulator(\"baseline_simulator.pickle\")\n",
    "# scenario B has only one TS at station Amstelveen\n",
    "sim_b = quick_load_simulator(\"baseline_simulator.pickle\")\n",
    "sim_b.set_vehicles(\"DIEMEN\", \"HV\", 0)\n",
    "\n",
    "evaluator = Evaluator()\n",
    "# we add two metric on the response time and on-time rate of TS vehicles and\n",
    "# one on the other vehicle types to verify if there is no effect\n",
    "evaluator.add_metric(\"response_time\", name=\"HV response time\", vehicles=\"HV\",\n",
    "                     description=\"Response time of all HV deployments.\")\n",
    "evaluator.add_metric(\"on_time\", name=\"First HV on-time\", vehicles=\"HV\", first_only=True,\n",
    "                     description=\"On-time rate of first HV.\", quantiles=None)\n",
    "evaluator.add_metric(\"delay\", name=\"Service area delay\", vehicles=\"HV\", first_only=True, prios=1, locations=service_areas[\"DIEMEN\"],\n",
    "                     description=\"Response time delay of first RV for prio 1 incidents in affected service area.\")\n",
    "evaluator.add_metric(\"response_time\", name=\"Non-HV\", vehicles=[\"TS\", \"RV\", \"WO\"],\n",
    "                     description=\"Response time of unaffected vehicle types.\")\n",
    "\n",
    "experiment1e = ABTest(evaluator=evaluator)\n",
    "experiment1e.set_scenario_A(sim_a, description=\"Baseline situation\")\n",
    "experiment1e.set_scenario_B(sim_b, description=\"Removed HV from station Diemen.\")\n",
    "experiment1e.run()\n",
    "experiment1e.print_results()"
   ]
  },
  {
   "cell_type": "markdown",
   "metadata": {},
   "source": [
    "## Experiment 1.f: Add WO to station Nico.\n",
    "Expected effect: small positive effect."
   ]
  },
  {
   "cell_type": "code",
   "execution_count": null,
   "metadata": {},
   "outputs": [],
   "source": [
    "# scenario A is the baseline\n",
    "sim_a = quick_load_simulator(\"baseline_simulator.pickle\")\n",
    "# scenario B has only one TS at station Amstelveen\n",
    "sim_b = quick_load_simulator(\"baseline_simulator.pickle\")\n",
    "sim_b.set_vehicles(\"NICO\", \"WO\", 1)\n",
    "sim_b.set_crews(\"NICO\", \"WO\", 1)\n",
    "\n",
    "evaluator = Evaluator()\n",
    "# we add two metric on the response time and on-time rate of TS vehicles and\n",
    "# one on the other vehicle types to verify if there is no effect\n",
    "evaluator.add_metric(\"response_time\", name=\"WO response time\", vehicles=\"WO\",\n",
    "                     description=\"Response time of all WO deployments.\")\n",
    "evaluator.add_metric(\"on_time\", name=\"First WO on-time\", vehicles=\"WO\", first_only=True,\n",
    "                     description=\"On-time rate of first WO.\", quantiles=None)\n",
    "evaluator.add_metric(\"delay\", name=\"Service area delay\", vehicles=\"WO\", first_only=True, prios=1, locations=service_areas[\"NICO\"],\n",
    "                     description=\"Response time delay of first WO for prio 1 incidents in affected service area.\")\n",
    "evaluator.add_metric(\"response_time\", name=\"Non-WO\", vehicles=[\"TS\", \"RV\", \"HV\"],\n",
    "                     description=\"Response time of unaffected vehicle types.\")\n",
    "\n",
    "experiment1f = ABTest(evaluator=evaluator)\n",
    "experiment1f.set_scenario_A(sim_a, description=\"Baseline situation\")\n",
    "experiment1f.set_scenario_B(sim_b, description=\"Removed HV from station Diemen.\")\n",
    "experiment1f.run()\n",
    "experiment1f.print_results()"
   ]
  },
  {
   "cell_type": "markdown",
   "metadata": {},
   "source": [
    "# 2. Moving stations\n",
    "\n",
    "We have couple of experiments where we move the locations of stations.\n",
    "\n",
    "## Experiment 2.a: Moving Osdorp to the N200.\n",
    "We move station Osdorp up towards the N200 and closer to the industrial site above the N200. Specifically, we place it in the demand location with id `13781452`."
   ]
  },
  {
   "cell_type": "code",
   "execution_count": null,
   "metadata": {},
   "outputs": [],
   "source": [
    "# scenario A is the baseline\n",
    "sim_a = quick_load_simulator(\"baseline_simulator.pickle\")\n",
    "# scenario B has relocated station Osdorp\n",
    "sim_b = quick_load_simulator(\"baseline_simulator.pickle\")\n",
    "sim_b.move_station(\"OSDORP\", \"13781452\")\n",
    "\n",
    "evaluator = Evaluator()\n",
    "evaluator.add_metric(\"response_time\", name=\"response time\", description=\"Overall response time of all deployments.\")\n",
    "evaluator.add_metric(\"response_time\", name=\"response time Osdorp\", locations=service_areas[\"OSDORP\"],\n",
    "                     description=\"Overall response time of all deployments in Osdorp's original service area.\")\n",
    "evaluator.add_metric(\"delay\", name=\"Service area delay\", vehicles=\"TS\", first_only=True, prios=1, locations=service_areas[\"ZEBRA\"],\n",
    "                     description=\"Response time delay of first TS for prio 1 incidents in affected service area.\")\n",
    "evaluator.add_metric(\"on_time\", name=\"First TS on-time\", vehicles=\"TS\", first_only=True,\n",
    "                     description=\"On-time rate of first TS.\", quantiles=None)\n",
    "\n",
    "experiment1f = ABTest(evaluator=evaluator)\n",
    "experiment1f.set_scenario_A(sim_a, description=\"Baseline situation\")\n",
    "experiment1f.set_scenario_B(sim_b, description=\"Station Osdorp moved up to the N200.\")\n",
    "experiment1f.run()"
   ]
  },
  {
   "cell_type": "code",
   "execution_count": null,
   "metadata": {},
   "outputs": [],
   "source": [
    "experiment1f.print_results()"
   ]
  },
  {
   "cell_type": "markdown",
   "metadata": {},
   "source": [
    "## Experiment 2.b: Testing suggested station positions of previous study.\n",
    "\n",
    "A paper (...) suggested three station relocations that should lead to improved coverage. Let's see if our simulator would agree."
   ]
  },
  {
   "cell_type": "code",
   "execution_count": null,
   "metadata": {},
   "outputs": [],
   "source": [
    "# this is best tested using the MultiFactorExperiment, which is not ready for use yet.."
   ]
  },
  {
   "cell_type": "markdown",
   "metadata": {},
   "source": [
    "# 3. Adding and removing stations\n",
    "In this section, we replicate two closings of stations that happened in the past years: stations \"Landelijk Noord\" and \"Ouderkerk aan de Amstel\" were closed, with an apparently minimal effect. The simulator should give similar results.\n",
    "\n",
    "## Experiment 3.a: Closing of Landelijk Noord"
   ]
  },
  {
   "cell_type": "code",
   "execution_count": null,
   "metadata": {},
   "outputs": [],
   "source": [
    "# create resource allocation with Landelijk Noord\n",
    "# having 1 TS with a part time crew\n",
    "resources_with_landelijknoord = resource_allocation.copy()\n",
    "new_resources = [1, 0, 0, 0, 0, 1, 0, 0, 0, 0]\n",
    "resources_with_landelijknoord.set_index(\"kazerne\", inplace=True)\n",
    "resources_with_landelijknoord.loc[\"Landelijk Noord\", :] = new_resources\n",
    "resources_with_landelijknoord = resources_with_landelijknoord.astype(int).reset_index()"
   ]
  },
  {
   "cell_type": "code",
   "execution_count": null,
   "metadata": {},
   "outputs": [],
   "source": [
    "# scenario A is the baseline\n",
    "sim_a = quick_load_simulator(\"baseline_simulator.pickle\")\n",
    "# scenario B has the original station Landelijk Noord\n",
    "sim_b = quick_load_simulator(\"baseline_simulator.pickle\")\n",
    "sim_b.set_resource_allocation(resources_with_landelijknoord)"
   ]
  },
  {
   "cell_type": "code",
   "execution_count": null,
   "metadata": {},
   "outputs": [],
   "source": [
    "evaluator = Evaluator()\n",
    "evaluator.add_metric(\"response_time\", name=\"response time\", description=\"Overall response time of all deployments.\")\n",
    "evaluator.add_metric(\"on_time\", name=\"First TS on-time\", vehicles=\"TS\", first_only=True,\n",
    "                     description=\"Overall on-time rate of first TS.\", quantiles=None)\n",
    "evaluator.add_metric(\"delay\", name=\"Service area delay\", vehicles=\"TS\", first_only=True, prios=1, locations=service_areas[\"LANDELIJK NOORD\"],\n",
    "                     description=\"Response time delay of first TS for prio 1 incidents in affected service area.\")"
   ]
  },
  {
   "cell_type": "code",
   "execution_count": null,
   "metadata": {},
   "outputs": [],
   "source": [
    "# Let's use the same evaluator as in 1a and 1b.\n",
    "experiment3a = ABTest(evaluator=evaluator)\n",
    "experiment3a.set_scenario_A(sim_a, description=\"Landelijk Noord closed.\")\n",
    "experiment3a.set_scenario_B(sim_b, description=\"Landelijk Noord operating (1 TS with part time crew).\")\n",
    "experiment3a.run()\n",
    "experiment3a.print_results()"
   ]
  },
  {
   "cell_type": "markdown",
   "metadata": {},
   "source": [
    "## Experiment 3.b: Closing of Ouderkerk aan de Amstel"
   ]
  },
  {
   "cell_type": "code",
   "execution_count": null,
   "metadata": {},
   "outputs": [],
   "source": [
    "# create resource allocation with Ouderkerk aan de Amstel\n",
    "# having 1 TS with a part time crew\n",
    "resources_with_ouderkerk = resource_allocation.copy()\n",
    "new_resources = [1, 0, 0, 0, 0, 1, 0, 0, 0, 0]\n",
    "resources_with_ouderkerk.set_index(\"kazerne\", inplace=True)\n",
    "resources_with_ouderkerk.loc[\"Ouderkerk aan de Amstel\", :] = new_resources\n",
    "resources_with_ouderkerk = resources_with_ouderkerk.astype(int).reset_index()"
   ]
  },
  {
   "cell_type": "code",
   "execution_count": null,
   "metadata": {},
   "outputs": [],
   "source": [
    "# scenario A is the baseline\n",
    "sim_a = quick_load_simulator(\"baseline_simulator.pickle\")\n",
    "# scenario B has the original station Ouderkerk aan de Amstel\n",
    "sim_b = quick_load_simulator(\"baseline_simulator.pickle\")\n",
    "sim_b.set_resource_allocation(resources_with_ouderkerk)"
   ]
  },
  {
   "cell_type": "code",
   "execution_count": null,
   "metadata": {},
   "outputs": [],
   "source": [
    "evaluator = Evaluator()\n",
    "evaluator.add_metric(\"response_time\", name=\"response time\", description=\"Overall response time of all deployments.\")\n",
    "evaluator.add_metric(\"on_time\", name=\"First TS on-time\", vehicles=\"TS\", first_only=True,\n",
    "                     description=\"Overall on-time rate of first TS.\", quantiles=None)\n",
    "evaluator.add_metric(\"delay\", name=\"Service area delay\", vehicles=\"TS\", first_only=True, prios=1, locations=service_areas[\"OUDERKERK AAN DE AMSTEL\"],\n",
    "                     description=\"Response time delay of first TS for prio 1 incidents in affected service area.\")\n",
    "\n",
    "# run the experiment\n",
    "experiment3b = ABTest(evaluator=evaluator)\n",
    "experiment3b.set_scenario_A(sim_a, description=\"Ouderkerk aan de Amstel closed.\")\n",
    "experiment3b.set_scenario_B(sim_b, description=\"Ouderkerk aan de Amstel operating (1 TS with part time crew).\")\n",
    "experiment3b.run()"
   ]
  },
  {
   "cell_type": "code",
   "execution_count": null,
   "metadata": {},
   "outputs": [],
   "source": [
    "experiment3b.print_results()"
   ]
  },
  {
   "cell_type": "markdown",
   "metadata": {},
   "source": [
    "## Experiment 3.c: Adding a station in Bovenkerk\n",
    "In this experiment, we add a station in between the two most southern stations in the region and station Amstelveen, since there is a relatively large area there without station. We place the station in demand location `13710002`."
   ]
  },
  {
   "cell_type": "code",
   "execution_count": null,
   "metadata": {},
   "outputs": [],
   "source": [
    "# scenario A is the baseline\n",
    "sim_a = quick_load_simulator(\"baseline_simulator.pickle\")\n",
    "# scenario B has the original station Ouderkerk aan de Amstel\n",
    "sim_b = quick_load_simulator(\"baseline_simulator.pickle\")\n",
    "sim_b.set_resource_allocation(resources_with_ouderkerk)\n",
    "sim_b.move_station(\"OUDERKERK AAN DE AMSTEL\", \"13710002\", keep_name=False, new_name=\"BOVENKERK\")\n",
    "\n",
    "evaluator = Evaluator()\n",
    "evaluator.add_metric(\"response_time\", name=\"Response time\", description=\"Overall response time of all deployments.\")\n",
    "evaluator.add_metric(\"on_time\", name=\"First TS on-time\", vehicles=\"TS\", first_only=True,\n",
    "                     description=\"Overall on-time rate of first TS.\", quantiles=None)\n",
    "evaluator.add_metric(\"delay\", name=\"Amstelveen delay\", vehicles=\"TS\", first_only=True, prios=1, locations=service_areas[\"AMSTELVEEN\"],\n",
    "                     description=\"Response time delay of first TS for prio 1 incidents in service area of station Amstelveen.\")\n",
    "evaluator.add_metric(\"delay\", name=\"Uithoorn delay\", vehicles=\"TS\", first_only=True, prios=1, locations=service_areas[\"UITHOORN\"],\n",
    "                     description=\"Response time delay of first TS for prio 1 incidents in service area of station Uithoorn.\")\n",
    "evaluator.add_metric(\"delay\", name=\"Aalsmeer delay\", vehicles=\"TS\", first_only=True, prios=1, locations=service_areas[\"AALSMEER\"],\n",
    "                     description=\"Response time delay of first TS for prio 1 incidents in service area of station Aalsmeer.\")\n",
    "\n",
    "\n",
    "experiment3c = ABTest(evaluator=evaluator)\n",
    "experiment3c.set_scenario_A(sim_a, description=\"Baseline situation.\")\n",
    "experiment3c.set_scenario_B(sim_b, description=\"Additional station in Bovenkerk.\")\n",
    "experiment3c.run()\n",
    "experiment3c.print_results()"
   ]
  },
  {
   "cell_type": "markdown",
   "metadata": {},
   "source": [
    "# 4. Station status cycles.\n",
    "\n",
    "## Experiment 4.a: Closing station Victor at night.\n",
    "In this experiment, we close station Victor every night between 23PM and 7AM, as happened in real life."
   ]
  },
  {
   "cell_type": "code",
   "execution_count": null,
   "metadata": {},
   "outputs": [],
   "source": [
    "# scenario A is the baseline\n",
    "sim_a = quick_load_simulator(\"baseline_simulator.pickle\")\n",
    "# scenario B has Victor closed every night\n",
    "sim_b = quick_load_simulator(\"baseline_simulator.pickle\")\n",
    "sim_b.set_daily_station_status(\"VICTOR\", 23, 7, status=\"closed\")\n",
    "\n",
    "evaluator = Evaluator()\n",
    "evaluator.add_metric(\"response_time\", name=\"Response time\", description=\"Overall response time of all deployments.\")\n",
    "evaluator.add_metric(\"on_time\", name=\"First TS on-time\", vehicles=\"TS\", first_only=True,\n",
    "                     description=\"Overall on-time rate of first TS.\", quantiles=None)\n",
    "evaluator.add_metric(\"response_time\", name=\"SA response time\", description=\"Response time of in service area Victor.\",\n",
    "                     locations=service_areas[\"VICTOR\"])\n",
    "evaluator.add_metric(\"delay\", name=\"Victor delay\", vehicles=\"TS\", first_only=True, prios=1, locations=service_areas[\"VICTOR\"],\n",
    "                     hours=[23, 0, 1, 2, 3, 4, 5, 6], description=\"Response time delay of first TS for prio 1 incidents in service area of station Victor during the closing hours.\")\n",
    "\n",
    "experiment4a = ABTest(evaluator=evaluator)\n",
    "experiment4a.set_scenario_A(sim_a, description=\"Baseline situation.\")\n",
    "experiment4a.set_scenario_B(sim_b, description=\"Station Victor closed at night between 23 PM and 7 AM.\")\n",
    "experiment4a.run()\n",
    "experiment4a.print_results()"
   ]
  },
  {
   "cell_type": "markdown",
   "metadata": {},
   "source": [
    "## Experiment 4.b: Diemen operated by part time crew after office hours.\n",
    "In this experiment, we close station Victor every night between 23PM and 7AM, as happened in real life."
   ]
  },
  {
   "cell_type": "code",
   "execution_count": null,
   "metadata": {},
   "outputs": [],
   "source": [
    "# scenario A is the baseline\n",
    "sim_a = quick_load_simulator(\"baseline_simulator.pickle\")\n",
    "# scenario B has Victor closed every night\n",
    "sim_b = quick_load_simulator(\"baseline_simulator.pickle\")\n",
    "sim_b.set_daily_station_status(\"DIEMEN\", 18, 8, status=\"parttime\", days_of_week=[0, 1, 2, 3, 4])\n",
    "sim_b.set_daily_station_status(\"DIEMEN\", 8, 8, status=\"parttime\", days_of_week=[5, 6])\n",
    "print(sim_b.stations[\"DIEMEN\"].status_table)"
   ]
  },
  {
   "cell_type": "code",
   "execution_count": null,
   "metadata": {},
   "outputs": [],
   "source": [
    "evaluator = Evaluator()\n",
    "evaluator.add_metric(\"response_time\", name=\"Response time\", description=\"Overall response time of all deployments.\")\n",
    "evaluator.add_metric(\"on_time\", name=\"First TS on-time\", vehicles=\"TS\", first_only=True,\n",
    "                     description=\"Overall on-time rate of first TS.\", quantiles=None)\n",
    "evaluator.add_metric(\"response_time\", name=\"SA response time\", description=\"Response time of in service area Diemen.\",\n",
    "                     locations=service_areas[\"DIEMEN\"])\n",
    "evaluator.add_metric(\"delay\", name=\"Weekday delay\", vehicles=\"TS\", first_only=True, prios=1, locations=service_areas[\"DIEMEN\"],\n",
    "                     hours=[18, 19, 20, 21, 22, 23, 0, 1, 2, 3, 4, 5, 6, 7], days_of_week=[0, 1, 2, 3, 4],\n",
    "                     description=\"Response time delay of first TS for prio 1 incidents in service area of station Diemen on weekdays after office hours.\")\n",
    "\n",
    "evaluator.add_metric(\"delay\", name=\"Weekend delay\", vehicles=\"TS\", first_only=True, prios=1, locations=service_areas[\"DIEMEN\"], days_of_week=[5, 6],\n",
    "                     description=\"Response time delay of first TS for prio 1 incidents in service area of station Diemen during the weekend.\")\n",
    "\n",
    "experiment4b = ABTest(evaluator=evaluator)\n",
    "experiment4b.set_scenario_A(sim_a, description=\"Baseline situation.\")\n",
    "experiment4b.set_scenario_B(sim_b, description=\"Diemen operated by part time crews outside office hours.\")\n",
    "experiment4b.run()\n",
    "experiment4b.print_results()"
   ]
  },
  {
   "cell_type": "markdown",
   "metadata": {},
   "source": [
    "# 5. Backup protocols\n",
    "In Amsterdam-Amstelland, some stations have both full time and part time personell. In such cases, a backup protocol can be used in which part time crews come to the fire station preventively when the full time crew is deployed in order to ensure a timely response for a possible second incident.\n",
    "\n",
    "We test the usefulness of having such a protocol in place at the one fire station that has this in practice: Amstelveen.\n",
    "\n",
    "## Experiment 5.a: Backup protocol at station Amstelveen."
   ]
  },
  {
   "cell_type": "code",
   "execution_count": null,
   "metadata": {},
   "outputs": [],
   "source": [
    "# scenario A is the baseline\n",
    "sim_a = quick_load_simulator(\"baseline_simulator.pickle\")\n",
    "# scenario B has Victor closed every night\n",
    "sim_b = quick_load_simulator(\"baseline_simulator.pickle\")\n",
    "sim_b.activate_backup_protocol(\"AMSTELVEEN\")\n",
    "\n",
    "evaluator = Evaluator()\n",
    "evaluator.add_metric(\"response_time\", name=\"Response time\", description=\"Overall response time of all deployments.\")\n",
    "evaluator.add_metric(\"on_time\", name=\"First TS on-time\", vehicles=\"TS\", first_only=True,\n",
    "                     description=\"Overall on-time rate of first TS.\", quantiles=None)\n",
    "evaluator.add_metric(\"response_time\", name=\"SA response time\", description=\"Response time of in service area Amstelveen.\",\n",
    "                     locations=service_areas[\"AMSTELVEEN\"])\n",
    "evaluator.add_metric(\"delay\", name=\"High risk delay\", vehicles=\"TS\", first_only=True, prios=1, locations=service_areas[\"AMSTELVEEN\"],\n",
    "                     description=\"Response time delay of first TS for prio 1 incidents in service area of station Amstelveen\")\n",
    "\n",
    "experiment4b = ABTest(evaluator=evaluator)\n",
    "experiment4b.set_scenario_A(sim_a, description=\"Baseline situation.\")\n",
    "experiment4b.set_scenario_B(sim_b, description=\"Using a backup protocol at fire station Amstelveen.\")\n",
    "experiment4b.run()\n",
    "experiment4b.print_results()"
   ]
  },
  {
   "cell_type": "markdown",
   "metadata": {},
   "source": [
    "# 6. Increasing incident rates."
   ]
  },
  {
   "cell_type": "code",
   "execution_count": null,
   "metadata": {},
   "outputs": [],
   "source": []
  }
 ],
 "metadata": {
  "kernelspec": {
   "display_name": "Python 3",
   "language": "python",
   "name": "python3"
  },
  "language_info": {
   "codemirror_mode": {
    "name": "ipython",
    "version": 3
   },
   "file_extension": ".py",
   "mimetype": "text/x-python",
   "name": "python",
   "nbconvert_exporter": "python",
   "pygments_lexer": "ipython3",
   "version": "3.6.7"
  }
 },
 "nbformat": 4,
 "nbformat_minor": 2
}
